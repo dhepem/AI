{
  "cells": [
    {
      "cell_type": "code",
      "execution_count": null,
      "metadata": {
        "id": "7yDXK0vVggAM"
      },
      "outputs": [],
      "source": [
        "import numpy as np"
      ]
    },
    {
      "cell_type": "code",
      "execution_count": null,
      "metadata": {
        "colab": {
          "base_uri": "https://localhost:8080/"
        },
        "id": "X4Ybua2-gk_U",
        "outputId": "8db76106-b702-4e37-90a4-00199219cba4"
      },
      "outputs": [
        {
          "name": "stdout",
          "output_type": "stream",
          "text": [
            "[[-3  1]\n",
            " [-1  1]\n",
            " [ 1  1]\n",
            " [ 3  1]]\n"
          ]
        }
      ],
      "source": [
        "A = np.array([[-3, 1], [-1, 1], [1, 1], [3, 1]])\n",
        "print(A)"
      ]
    },
    {
      "cell_type": "code",
      "execution_count": null,
      "metadata": {
        "id": "EyvvgCFXg-kE"
      },
      "outputs": [],
      "source": [
        "b = np.array([-1, -1, 3, 3])"
      ]
    },
    {
      "cell_type": "code",
      "execution_count": null,
      "metadata": {
        "colab": {
          "base_uri": "https://localhost:8080/"
        },
        "id": "nAztKs5ThIgs",
        "outputId": "1724d4c8-0dcb-46db-d878-0a769e8ee217"
      },
      "outputs": [
        {
          "name": "stdout",
          "output_type": "stream",
          "text": [
            "[[-3 -1  1  3]\n",
            " [ 1  1  1  1]]\n"
          ]
        }
      ],
      "source": [
        "At = A.transpose()\n",
        "print(At)"
      ]
    },
    {
      "cell_type": "code",
      "execution_count": null,
      "metadata": {
        "colab": {
          "base_uri": "https://localhost:8080/"
        },
        "id": "3pTQGHpphLnz",
        "outputId": "7c95cf82-6a8e-4eb4-af46-7bc4d626a3b3"
      },
      "outputs": [
        {
          "name": "stdout",
          "output_type": "stream",
          "text": [
            "[[20  0]\n",
            " [ 0  4]]\n",
            "[16  4]\n",
            "[[0.05 0.  ]\n",
            " [0.   0.25]]\n"
          ]
        }
      ],
      "source": [
        "AtA = At @ A\n",
        "print(AtA)\n",
        "\n",
        "Atb = At @ b\n",
        "print(Atb)\n",
        "\n",
        "AtA_inv = np.linalg.inv(AtA)\n",
        "print(AtA_inv)"
      ]
    },
    {
      "cell_type": "code",
      "execution_count": null,
      "metadata": {
        "colab": {
          "base_uri": "https://localhost:8080/"
        },
        "id": "VTT7AAT0hPdk",
        "outputId": "922e3888-4895-4b24-d422-52d3a1c7286a"
      },
      "outputs": [
        {
          "name": "stdout",
          "output_type": "stream",
          "text": [
            "[0.8 1. ]\n"
          ]
        }
      ],
      "source": [
        "xx = AtA_inv @ Atb\n",
        "print(xx)"
      ]
    },
    {
      "cell_type": "code",
      "execution_count": null,
      "metadata": {
        "colab": {
          "base_uri": "https://localhost:8080/"
        },
        "id": "QpQ6DoZnhTt0",
        "outputId": "d51eb2ad-194f-4777-8dbf-3c0e5b5067a6"
      },
      "outputs": [
        {
          "name": "stdout",
          "output_type": "stream",
          "text": [
            "[-1.4  0.2  1.8  3.4]\n"
          ]
        }
      ],
      "source": [
        "bb = A @ x\n",
        "print(bb)"
      ]
    }
  ],
  "metadata": {
    "colab": {
      "collapsed_sections": [],
      "name": "[1-8. 벡터공간과 최소제곱법]-2",
      "provenance": []
    },
    "kernelspec": {
      "display_name": "Python 3.10.4 64-bit",
      "language": "python",
      "name": "python3"
    },
    "language_info": {
      "name": "python",
      "version": "3.10.4"
    },
    "vscode": {
      "interpreter": {
        "hash": "26de051ba29f2982a8de78e945f0abaf191376122a1563185a90213a26c5da77"
      }
    }
  },
  "nbformat": 4,
  "nbformat_minor": 0
}
