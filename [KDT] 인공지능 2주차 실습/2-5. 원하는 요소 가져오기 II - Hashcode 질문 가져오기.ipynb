{
 "cells": [
  {
   "cell_type": "markdown",
   "id": "192778f5-b6a0-458f-9d28-2ecd531975a1",
   "metadata": {},
   "source": [
    "## 2-4. BeautifulSoup을 이용해 원하는 요소 가져오기 II - Hashcode 질문 가져오기\n",
    "\n",
    "- BeautifulSoup을 이용해서 Hashcode 질문 내용을 스크래핑해봅시다."
   ]
  },
  {
   "cell_type": "markdown",
   "id": "4641b904-0d90-4bd0-a963-3f01ea8547d1",
   "metadata": {},
   "source": [
    "### 스크래핑하고자 하는 사이트 확인하기\n",
    "\n",
    "직접 접속해서 해당 사이트를 확인해봅시다 : https://hashcode.co.kr/\n",
    "\n",
    "아래 두 가지 원칙을 지킵니다.\n",
    "1. 과도한 요청을 보내지 않습니다.\n",
    "2. 받아온 정보 활용에 유의합니다."
   ]
  },
  {
   "cell_type": "code",
   "execution_count": null,
   "id": "57710ab3",
   "metadata": {},
   "outputs": [],
   "source": [
    "# 다음 User-Agent를 추가해봅시다.\n",
    "\n",
    "user_agent = {\"User-Agent\": \"Mozilla/5.0 (Macintosh; Intel Mac OS X 10_15_4) AppleWebKit/537.36 (KHTML, like Gecko) Chrome/83.0.4103.97 Safari/537.36\"}"
   ]
  },
  {
   "cell_type": "code",
   "execution_count": null,
   "id": "1b08d5f2-01ae-4b19-bff8-f933f12f94e4",
   "metadata": {},
   "outputs": [],
   "source": [
    "# 필요한 라이브러리를 불러온 후, 요청을 진행해봅시다.\n",
    "\n"
   ]
  },
  {
   "cell_type": "code",
   "execution_count": null,
   "id": "cdd3635e",
   "metadata": {},
   "outputs": [],
   "source": [
    "# 응답을 바탕으로 BeautifulSoup 객체를 생성해봅시다.\n",
    "\n"
   ]
  },
  {
   "cell_type": "code",
   "execution_count": null,
   "id": "c1eec3c8",
   "metadata": {},
   "outputs": [],
   "source": [
    "# 질문의 빈도를 체크하는 dict를 만든 후, 빈도를 체크해봅시다.\n",
    "\n"
   ]
  },
  {
   "cell_type": "markdown",
   "id": "ef3de62a",
   "metadata": {},
   "source": [
    "### Bonus: 페이지네이션(Pagination)\n",
    "\n",
    "페이지네이션은 많은 정보를 인덱스로 구분하는 기법입니다.  \n",
    "저희가 진행하고 있는 사이트는 Query String을 통해서 이를 구분하는데요,  \n",
    "이를 감안해서 다시 한번 진행해봅시다.\n",
    "\n",
    "`https://hashcode.co.kr/?page={i}`"
   ]
  },
  {
   "cell_type": "code",
   "execution_count": null,
   "id": "eed63c8f",
   "metadata": {},
   "outputs": [],
   "source": [
    "# Pagination이 되어있는 질문 리스트의 제목을 모두 가져와봅시다.\n",
    "# 과도한 요청을 방지하기 위해 1초마다 요청을 보내봅시다.\n",
    "\n"
   ]
  }
 ],
 "metadata": {
  "kernelspec": {
   "display_name": "Python 3.10.4 64-bit",
   "language": "python",
   "name": "python3"
  },
  "language_info": {
   "codemirror_mode": {
    "name": "ipython",
    "version": 3
   },
   "file_extension": ".py",
   "mimetype": "text/x-python",
   "name": "python",
   "nbconvert_exporter": "python",
   "pygments_lexer": "ipython3",
   "version": "3.10.4"
  },
  "vscode": {
   "interpreter": {
    "hash": "26de051ba29f2982a8de78e945f0abaf191376122a1563185a90213a26c5da77"
   }
  }
 },
 "nbformat": 4,
 "nbformat_minor": 5
}
