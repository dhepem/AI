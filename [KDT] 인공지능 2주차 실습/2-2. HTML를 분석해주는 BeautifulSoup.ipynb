{
 "cells": [
  {
   "cell_type": "markdown",
   "id": "192778f5-b6a0-458f-9d28-2ecd531975a1",
   "metadata": {},
   "source": [
    "## 2-2. 파이썬의 HTML Parser, BeautifulSoup\n",
    "\n",
    "- HTML 분석기인 BeautifulSoup에 대해서 알아봅시다."
   ]
  },
  {
   "cell_type": "markdown",
   "id": "4641b904-0d90-4bd0-a963-3f01ea8547d1",
   "metadata": {},
   "source": [
    "### BeautifulSoup 라이브러리\n",
    "\n",
    "지난 실습들에서 저희는 `requests` 모듈을 이용해서 HTTP 요청을 보내고, 이 응답을 받아 여러 요소를 살펴보았습니다.  \n",
    "그런데, `res.body`를 해보았을 때 문제점이 있었습니다. 바로 해당 내용이 아주 긴 텍스트로 와서 분석하기 힘들다는 것이 바로 그것인데요,  \n",
    "  \n",
    "**저희가 원하는 요소만을 가져올 수 있으면 얼마나 좋을까요?**  \n",
    "이를 가능하도록 HTML 코드를 **분석**해주는, HTML Parser를 사용할 수 있습니다. 그 중에서 가장 유명한 것이 바로 오늘 저희가 사용할 `BeautifulSoup4`입니다.  \n",
    "\n",
    "우선, 이를 사용하기 위해서 `pip`를 사용해 다운로드를 받아봅시다.\n",
    "\n",
    "> Tip: `%`를 이용해서 노트북(.ipynb) 환경에서 터미널 코드를 실행할 수 있습니다."
   ]
  },
  {
   "cell_type": "code",
   "execution_count": 1,
   "id": "1b08d5f2-01ae-4b19-bff8-f933f12f94e4",
   "metadata": {},
   "outputs": [
    {
     "name": "stdout",
     "output_type": "stream",
     "text": [
      "Defaulting to user installation because normal site-packages is not writeable\n",
      "Collecting bs4\n",
      "  Downloading bs4-0.0.1.tar.gz (1.1 kB)\n",
      "  Preparing metadata (setup.py): started\n",
      "  Preparing metadata (setup.py): finished with status 'done'\n",
      "Collecting beautifulsoup4\n",
      "  Using cached beautifulsoup4-4.11.1-py3-none-any.whl (128 kB)\n",
      "Collecting soupsieve>1.2\n",
      "  Using cached soupsieve-2.3.2.post1-py3-none-any.whl (37 kB)\n",
      "Using legacy 'setup.py install' for bs4, since package 'wheel' is not installed.\n",
      "Installing collected packages: soupsieve, beautifulsoup4, bs4\n",
      "  Running setup.py install for bs4: started\n",
      "  Running setup.py install for bs4: finished with status 'done'\n",
      "Successfully installed beautifulsoup4-4.11.1 bs4-0.0.1 soupsieve-2.3.2.post1\n",
      "Note: you may need to restart the kernel to use updated packages.\n"
     ]
    }
   ],
   "source": [
    "%pip install bs4"
   ]
  },
  {
   "cell_type": "markdown",
   "id": "03b2584d-ca5a-4aa6-80ce-0c478a097fbd",
   "metadata": {},
   "source": [
    "설치를 다 진행했다면, 이제 `BeautifulSoup4` 모듈을 사용할 준비가 되었습니다.\n",
    "\n",
    "이제 이를 바탕으로 HTTP 코드를 분석해 원하는 정보만을 얻으러 가볼까요?"
   ]
  },
  {
   "cell_type": "markdown",
   "id": "060b520e-2569-4cf0-a38c-8a68c37eb907",
   "metadata": {},
   "source": [
    "### BeautifulSoup 객체 만들기"
   ]
  },
  {
   "cell_type": "code",
   "execution_count": 2,
   "id": "530b2366-1e2d-4c86-b432-9b9a56778041",
   "metadata": {},
   "outputs": [],
   "source": [
    "# www.example.com 사이트를 요청한 후 응답 받아보기\n",
    "\n"
   ]
  },
  {
   "cell_type": "markdown",
   "id": "117681f9-eac7-4991-a667-af5389d89608",
   "metadata": {},
   "source": [
    "저희가 지난 시간까지 다음과 같은 방법을 통해 요청을 보내고 응답을 받았는데요,\n",
    "\n",
    "이렇게 받은 `res`를 그대로 사용하지 말고, HTML parser에 전달해봅시다."
   ]
  },
  {
   "cell_type": "code",
   "execution_count": 3,
   "id": "3f99f957-56b9-4615-864b-a8f68611ab7c",
   "metadata": {},
   "outputs": [],
   "source": [
    "# BeautifulSoup4 - bs4를 불러와봅시다.\n",
    "\n"
   ]
  },
  {
   "cell_type": "markdown",
   "id": "3d445a64-4cc7-4c0d-a583-6e9c2adff6ba",
   "metadata": {},
   "source": [
    "이렇게 불러온 bs4를 사용하기 위해선, BeautifulSoup 객체를 생성해주어야합니다."
   ]
  },
  {
   "cell_type": "code",
   "execution_count": 15,
   "id": "80fb516c-d62e-4f9e-a76a-a395ebeb05c3",
   "metadata": {},
   "outputs": [],
   "source": [
    "# BeautifulSoup객체를 만들어봅시다.\n",
    "# 첫번째 인자로는 response의 body를 텍스트로 전달합니다.\n",
    "# 두번째 인자로는 \"html\"로 분석한다는 것을 명시해줍니다.\n",
    "\n"
   ]
  },
  {
   "cell_type": "markdown",
   "id": "d838f9b6-2da4-4452-bc7d-49dab08aef47",
   "metadata": {},
   "source": [
    "이 soup은 HTML 정보를 분석해서 가지고 있습니다. 이를 확인해볼까요?"
   ]
  },
  {
   "cell_type": "code",
   "execution_count": null,
   "id": "de5a0050-7e12-4dec-a75c-da33cb2f027e",
   "metadata": {},
   "outputs": [],
   "source": [
    "# 객체 soup의 .prettify()를 활용하면 분석된 HTML을 보기 편하게 반환해줍니다.\n",
    "\n"
   ]
  },
  {
   "cell_type": "markdown",
   "id": "d41028fd-d288-428f-9fa9-5c23436f8c4c",
   "metadata": {},
   "source": [
    "HTML이 들여쓰기가 되어 예쁘게 출력된 것을 확인할 수 있습니다.\n",
    "\n",
    "이 `soup` 객체를 통해서 우리는 HTML의 특정 요소를 가지고 올 수 있습니다."
   ]
  },
  {
   "cell_type": "code",
   "execution_count": 40,
   "id": "280834b4-15eb-4571-bfa9-859a0cb3f15a",
   "metadata": {},
   "outputs": [
    {
     "data": {
      "text/plain": [
       "<title>Example Domain</title>"
      ]
     },
     "execution_count": 40,
     "metadata": {},
     "output_type": "execute_result"
    }
   ],
   "source": [
    "# title 가져오기\n",
    "\n"
   ]
  },
  {
   "cell_type": "code",
   "execution_count": null,
   "id": "d2ff276a-5152-4dc6-9bc1-23b3f9e4ee4d",
   "metadata": {},
   "outputs": [],
   "source": [
    "# head 가져오기\n",
    "\n"
   ]
  },
  {
   "cell_type": "code",
   "execution_count": null,
   "id": "b871700d-d5b7-454b-a665-91f3f3ca4522",
   "metadata": {},
   "outputs": [],
   "source": [
    "# body 가져오기\n",
    "\n"
   ]
  },
  {
   "cell_type": "code",
   "execution_count": null,
   "id": "c14d0799-8ac1-4454-a18e-bb33e0294687",
   "metadata": {},
   "outputs": [],
   "source": [
    "# <h1> 태그로 감싸진 요소 하나 찾기\n",
    "\n"
   ]
  },
  {
   "cell_type": "markdown",
   "id": "d3b83c2c-29c2-4258-84b1-870319cf5d4b",
   "metadata": {},
   "source": [
    "만약 태그를 많이 가지고오고싶다면 어떻게 해야할까요?"
   ]
  },
  {
   "cell_type": "code",
   "execution_count": null,
   "id": "5b9cfab8-1115-4fff-a311-d922b0c0827c",
   "metadata": {},
   "outputs": [],
   "source": [
    "# <p> 태그로 감싸진 요소들 찾기\n",
    "\n"
   ]
  },
  {
   "cell_type": "code",
   "execution_count": null,
   "id": "6000e348-2e50-4208-a5ee-159662af14a2",
   "metadata": {},
   "outputs": [],
   "source": [
    "# 태그 이름 가져오기\n",
    "\n"
   ]
  },
  {
   "cell_type": "code",
   "execution_count": null,
   "id": "3dd58e5a-0a7b-4247-a6cf-ca230bd05fc0",
   "metadata": {},
   "outputs": [],
   "source": [
    "# 태그 내용 가져오기\n",
    "\n"
   ]
  }
 ],
 "metadata": {
  "kernelspec": {
   "display_name": "Python 3.10.4 64-bit",
   "language": "python",
   "name": "python3"
  },
  "language_info": {
   "codemirror_mode": {
    "name": "ipython",
    "version": 3
   },
   "file_extension": ".py",
   "mimetype": "text/x-python",
   "name": "python",
   "nbconvert_exporter": "python",
   "pygments_lexer": "ipython3",
   "version": "3.10.4"
  },
  "vscode": {
   "interpreter": {
    "hash": "26de051ba29f2982a8de78e945f0abaf191376122a1563185a90213a26c5da77"
   }
  }
 },
 "nbformat": 4,
 "nbformat_minor": 5
}
