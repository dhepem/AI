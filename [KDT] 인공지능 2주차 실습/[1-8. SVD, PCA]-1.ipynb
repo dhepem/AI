{
  "cells": [
    {
      "cell_type": "markdown",
      "metadata": {
        "id": "avi-EXcIa6gS"
      },
      "source": [
        "# SVD"
      ]
    },
    {
      "cell_type": "code",
      "execution_count": 1,
      "metadata": {
        "id": "dQa0lGJnbH9u"
      },
      "outputs": [],
      "source": [
        "import numpy as np"
      ]
    },
    {
      "cell_type": "code",
      "execution_count": null,
      "metadata": {
        "id": "2SOcUB5Qa6Xw"
      },
      "outputs": [],
      "source": [
        "A = np.array([[1, 1], [-2, 2], [-1, -1]])\n",
        "\n",
        "print(\"A:\")\n",
        "print(A)"
      ]
    },
    {
      "cell_type": "code",
      "execution_count": null,
      "metadata": {
        "id": "XfghmJpIa6UJ"
      },
      "outputs": [],
      "source": [
        "U = np.array([[1/1.414, 0, 1/1.414], [0, 1, 0], [-1/1.414, 0, 1/1.414]])\n",
        "\n",
        "UU = U[:,:1]\n",
        "\n",
        "print(\"U:\")\n",
        "print(U)\n",
        "print(\"UU:\")\n",
        "print(UU)"
      ]
    },
    {
      "cell_type": "code",
      "execution_count": null,
      "metadata": {
        "id": "KNN45vGga6Q4"
      },
      "outputs": [],
      "source": [
        "D = np.array([[4, 0], [0, 1/1.414], [0, 0]])\n",
        "\n",
        "DD = D[:1,:1]\n",
        "\n",
        "print(\"D\")\n",
        "print(D)\n",
        "\n",
        "print(\"DD\")\n",
        "print(DD)"
      ]
    },
    {
      "cell_type": "code",
      "execution_count": null,
      "metadata": {
        "id": "yCnrzLTMa6N-"
      },
      "outputs": [],
      "source": [
        "Vt = np.array([[1/1.414, 1/1.414], [-1/1.414, 1/1.414]])\n",
        "\n",
        "VVt = Vt[:1,:]\n",
        "\n",
        "print(\"Vt\")\n",
        "print(Vt)\n",
        "\n",
        "print(\"VVt\")\n",
        "print(VVt)"
      ]
    },
    {
      "cell_type": "code",
      "execution_count": null,
      "metadata": {
        "id": "j3arPWcNa6LG"
      },
      "outputs": [],
      "source": [
        "AA = U @ D @ Vt\n",
        "\n",
        "print(\"AA\")\n",
        "print(AA)"
      ]
    },
    {
      "cell_type": "code",
      "execution_count": null,
      "metadata": {
        "id": "MO8h6wSya6IG"
      },
      "outputs": [],
      "source": [
        "UU @ DD @ VVt"
      ]
    },
    {
      "cell_type": "markdown",
      "metadata": {
        "id": "YuJNNAftauIV"
      },
      "source": [
        "# PCA"
      ]
    },
    {
      "cell_type": "code",
      "execution_count": 2,
      "metadata": {
        "colab": {
          "base_uri": "https://localhost:8080/"
        },
        "id": "dMkS6DLfbRik",
        "outputId": "10cb534d-08b9-4611-93ac-34af63207f34"
      },
      "outputs": [
        {
          "ename": "ModuleNotFoundError",
          "evalue": "No module named 'sklearn'",
          "output_type": "error",
          "traceback": [
            "\u001b[1;31m---------------------------------------------------------------------------\u001b[0m",
            "\u001b[1;31mModuleNotFoundError\u001b[0m                       Traceback (most recent call last)",
            "Cell \u001b[1;32mIn [2], line 2\u001b[0m\n\u001b[0;32m      1\u001b[0m \u001b[39mimport\u001b[39;00m \u001b[39mnumpy\u001b[39;00m \u001b[39mas\u001b[39;00m \u001b[39mnp\u001b[39;00m\n\u001b[1;32m----> 2\u001b[0m \u001b[39mfrom\u001b[39;00m \u001b[39msklearn\u001b[39;00m\u001b[39m.\u001b[39;00m\u001b[39mdecomposition\u001b[39;00m \u001b[39mimport\u001b[39;00m PCA\n\u001b[0;32m      4\u001b[0m X \u001b[39m=\u001b[39m np\u001b[39m.\u001b[39marray([[\u001b[39m-\u001b[39m\u001b[39m1\u001b[39m, \u001b[39m-\u001b[39m\u001b[39m1\u001b[39m], [\u001b[39m-\u001b[39m\u001b[39m2\u001b[39m, \u001b[39m-\u001b[39m\u001b[39m1\u001b[39m], [\u001b[39m-\u001b[39m\u001b[39m3\u001b[39m, \u001b[39m-\u001b[39m\u001b[39m2\u001b[39m], [\u001b[39m1\u001b[39m, \u001b[39m1\u001b[39m], [\u001b[39m2\u001b[39m, \u001b[39m1\u001b[39m], [\u001b[39m3\u001b[39m, \u001b[39m2\u001b[39m]])\n\u001b[0;32m      5\u001b[0m pca \u001b[39m=\u001b[39m PCA(n_components\u001b[39m=\u001b[39m\u001b[39m2\u001b[39m)\n",
            "\u001b[1;31mModuleNotFoundError\u001b[0m: No module named 'sklearn'"
          ]
        }
      ],
      "source": [
        "import numpy as np\n",
        "from sklearn.decomposition import PCA\n",
        "\n",
        "X = np.array([[-1, -1], [-2, -1], [-3, -2], [1, 1], [2, 1], [3, 2]])\n",
        "pca = PCA(n_components=2)\n",
        "pca.fit(X)\n"
      ]
    },
    {
      "cell_type": "code",
      "execution_count": null,
      "metadata": {
        "colab": {
          "base_uri": "https://localhost:8080/"
        },
        "id": "urQ_9bcZb0WO",
        "outputId": "50e52323-d40a-4836-a0b4-1ccb00d5d45d"
      },
      "outputs": [
        {
          "name": "stdout",
          "output_type": "stream",
          "text": [
            "[0.99244289 0.00755711]\n"
          ]
        }
      ],
      "source": [
        "print(pca.explained_variance_ratio_)\n"
      ]
    },
    {
      "cell_type": "code",
      "execution_count": null,
      "metadata": {
        "colab": {
          "base_uri": "https://localhost:8080/"
        },
        "id": "s2AbqvSKcBnl",
        "outputId": "72e59550-f93f-464f-c37b-0d2f598bc2f8"
      },
      "outputs": [
        {
          "name": "stdout",
          "output_type": "stream",
          "text": [
            "[6.30061232 0.54980396]\n"
          ]
        }
      ],
      "source": [
        "print(pca.singular_values_)"
      ]
    },
    {
      "cell_type": "code",
      "execution_count": null,
      "metadata": {
        "colab": {
          "base_uri": "https://localhost:8080/"
        },
        "id": "dSvdHJtvcEI1",
        "outputId": "2386806a-f1dc-41fa-d55c-67257175c4eb"
      },
      "outputs": [
        {
          "name": "stdout",
          "output_type": "stream",
          "text": [
            "[[-0.83849224 -0.54491354]\n",
            " [ 0.54491354 -0.83849224]]\n"
          ]
        }
      ],
      "source": [
        "print(pca.components_)\n"
      ]
    },
    {
      "cell_type": "code",
      "execution_count": null,
      "metadata": {
        "id": "2PAvKSbIdQE-"
      },
      "outputs": [],
      "source": []
    }
  ],
  "metadata": {
    "colab": {
      "collapsed_sections": [],
      "name": "[1-8. SVD, PCA]-1",
      "provenance": []
    },
    "kernelspec": {
      "display_name": "Python 3.10.4 64-bit",
      "language": "python",
      "name": "python3"
    },
    "language_info": {
      "codemirror_mode": {
        "name": "ipython",
        "version": 3
      },
      "file_extension": ".py",
      "mimetype": "text/x-python",
      "name": "python",
      "nbconvert_exporter": "python",
      "pygments_lexer": "ipython3",
      "version": "3.10.4"
    },
    "vscode": {
      "interpreter": {
        "hash": "26de051ba29f2982a8de78e945f0abaf191376122a1563185a90213a26c5da77"
      }
    }
  },
  "nbformat": 4,
  "nbformat_minor": 0
}
