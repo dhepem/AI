{
  "cells": [
    {
      "cell_type": "markdown",
      "metadata": {
        "id": "Fn6NoDwPmhNs"
      },
      "source": [
        "# 인공지능 수학 - 선형대수 (NumPy 실습)\n",
        "## LU 분해 (가우스 소거법), 행렬의 rank"
      ]
    },
    {
      "cell_type": "code",
      "execution_count": null,
      "metadata": {
        "id": "kvcJK1GfTqxA"
      },
      "outputs": [],
      "source": [
        "import numpy as np\n",
        "import scipy\n",
        "import scipy.linalg   # LU 분해를 사용하기 위한 import"
      ]
    },
    {
      "cell_type": "code",
      "execution_count": null,
      "metadata": {
        "colab": {
          "base_uri": "https://localhost:8080/"
        },
        "id": "SqWHFBWsT3K7",
        "outputId": "33abcc6f-db20-4ee1-be79-10810f7f535d"
      },
      "outputs": [
        {
          "name": "stdout",
          "output_type": "stream",
          "text": [
            "A: [[ 3  1  1]\n",
            " [ 1 -2 -1]\n",
            " [ 1  1  1]]\n",
            "(3, 3)\n",
            "b: [4 1 2]\n",
            "(3,)\n"
          ]
        }
      ],
      "source": [
        "# 행렬 A, 벡터 b 코딩\n",
        "A = np.array([[3, 1, 1], [1, -2, -1], [1, 1, 1]])\n",
        "b = np.array([4, 1, 2])\n",
        "\n",
        "print(\"A:\", A)\n",
        "print(np.shape(A))\n",
        "\n",
        "print(\"b:\", b)\n",
        "print(np.shape(b))"
      ]
    },
    {
      "cell_type": "markdown",
      "metadata": {
        "id": "Qx_Um_GH55rF"
      },
      "source": [
        "LU 분해 결과 확인하기"
      ]
    },
    {
      "cell_type": "code",
      "execution_count": null,
      "metadata": {
        "colab": {
          "base_uri": "https://localhost:8080/"
        },
        "id": "YYNV8UN-puA2",
        "outputId": "67f4bc7c-523e-4a31-e129-72ba1be261da"
      },
      "outputs": [
        {
          "name": "stdout",
          "output_type": "stream",
          "text": [
            "P: [[1. 0. 0.]\n",
            " [0. 1. 0.]\n",
            " [0. 0. 1.]]\n",
            "L: [[ 1.          0.          0.        ]\n",
            " [ 0.33333333  1.          0.        ]\n",
            " [ 0.33333333 -0.28571429  1.        ]]\n",
            "U: [[ 3.          1.          1.        ]\n",
            " [ 0.         -2.33333333 -1.33333333]\n",
            " [ 0.          0.          0.28571429]]\n",
            "AA: [[ 3.  1.  1.]\n",
            " [ 1. -2. -1.]\n",
            " [ 1.  1.  1.]]\n"
          ]
        }
      ],
      "source": [
        "# LU 분해의 결과를 각각 행렬로서 확인하기\n",
        "P, L, U = scipy.linalg.lu(A)\n",
        "\n",
        "print(\"P:\", P)\n",
        "print(\"L:\", L)\n",
        "print(\"U:\", U)\n",
        "\n",
        "AA = P @ L @ U\n",
        "print(\"AA:\", AA)"
      ]
    },
    {
      "cell_type": "markdown",
      "metadata": {
        "id": "7Qa-vPFD7QVw"
      },
      "source": [
        "LU 분해를 이용한 선형시스템 Ax = b 풀기\n"
      ]
    },
    {
      "cell_type": "code",
      "execution_count": null,
      "metadata": {
        "colab": {
          "base_uri": "https://localhost:8080/"
        },
        "id": "YFVDrsxxh6gc",
        "outputId": "7f0e5d9e-2e87-4a34-9b45-62ed407f99be"
      },
      "outputs": [
        {
          "name": "stdout",
          "output_type": "stream",
          "text": [
            "x: [ 1. -1.  2.]\n",
            "(3,)\n",
            "bb: [4. 1. 2.]\n"
          ]
        }
      ],
      "source": [
        "# LU 분해\n",
        "lu, piv = scipy.linalg.lu_factor(A)\n",
        "x = scipy.linalg.lu_solve((lu, piv), b)\n",
        "\n",
        "print(\"x:\", x)\n",
        "print(np.shape(x))\n",
        "\n",
        "bb = A@x\n",
        "print(\"bb:\", bb)\n"
      ]
    },
    {
      "cell_type": "markdown",
      "metadata": {
        "id": "3Bl3v__7_uqi"
      },
      "source": [
        "## 행렬의 rank 계산하기"
      ]
    },
    {
      "cell_type": "markdown",
      "metadata": {
        "id": "sbGGkQxzBI4T"
      },
      "source": [
        "'rank = 2'인 2x2 행렬 A\n"
      ]
    },
    {
      "cell_type": "code",
      "execution_count": null,
      "metadata": {
        "colab": {
          "base_uri": "https://localhost:8080/"
        },
        "id": "U2Eq5NVt_-wH",
        "outputId": "bf1093ab-eff6-4820-b1d9-e6d59ff2ddcd"
      },
      "outputs": [
        {
          "name": "stdout",
          "output_type": "stream",
          "text": [
            "A: [[ 1  3]\n",
            " [-2  1]]\n"
          ]
        }
      ],
      "source": [
        "A = np.array([[1, 3], [-2, 1]])\n",
        "print(\"A:\", A)"
      ]
    },
    {
      "cell_type": "code",
      "execution_count": null,
      "metadata": {
        "colab": {
          "base_uri": "https://localhost:8080/"
        },
        "id": "0pE3s59nBHO_",
        "outputId": "2a8e1478-87e9-4179-b8e1-bf6d1f1b0ea1"
      },
      "outputs": [
        {
          "name": "stdout",
          "output_type": "stream",
          "text": [
            "rank: 2\n",
            "[[ 0.14285714 -0.42857143]\n",
            " [ 0.28571429  0.14285714]]\n"
          ]
        }
      ],
      "source": [
        "print(\"rank:\", np.linalg.matrix_rank(A))\n",
        "A_inv = np.linalg.inv(A)  \n",
        "\n",
        "print(A_inv)"
      ]
    },
    {
      "cell_type": "markdown",
      "metadata": {
        "id": "Ef5Y7F2sBPjr"
      },
      "source": [
        "'rank = 1'인 2x2 행렬 A"
      ]
    },
    {
      "cell_type": "code",
      "execution_count": null,
      "metadata": {
        "colab": {
          "base_uri": "https://localhost:8080/"
        },
        "id": "jJe0Im38ACVz",
        "outputId": "4036c661-f792-4753-c2ba-254bc72e967b"
      },
      "outputs": [
        {
          "name": "stdout",
          "output_type": "stream",
          "text": [
            "A: [[1 3]\n",
            " [2 6]]\n"
          ]
        }
      ],
      "source": [
        "A = np.array([[1, 3], [2, 6]])\n",
        "\n",
        "print(\"A:\", A)"
      ]
    },
    {
      "cell_type": "code",
      "execution_count": null,
      "metadata": {
        "colab": {
          "base_uri": "https://localhost:8080/",
          "height": 396
        },
        "id": "Fg-9YGgUAgLc",
        "outputId": "cb506086-b349-46f9-9d86-a150094ef523"
      },
      "outputs": [
        {
          "name": "stdout",
          "output_type": "stream",
          "text": [
            "rank: 1\n"
          ]
        },
        {
          "ename": "LinAlgError",
          "evalue": "ignored",
          "output_type": "error",
          "traceback": [
            "\u001b[0;31m---------------------------------------------------------------------------\u001b[0m",
            "\u001b[0;31mLinAlgError\u001b[0m                               Traceback (most recent call last)",
            "\u001b[0;32m<ipython-input-10-3263fad56aa2>\u001b[0m in \u001b[0;36m<module>\u001b[0;34m()\u001b[0m\n\u001b[1;32m      1\u001b[0m \u001b[0mprint\u001b[0m\u001b[0;34m(\u001b[0m\u001b[0;34m\"rank:\"\u001b[0m\u001b[0;34m,\u001b[0m \u001b[0mnp\u001b[0m\u001b[0;34m.\u001b[0m\u001b[0mlinalg\u001b[0m\u001b[0;34m.\u001b[0m\u001b[0mmatrix_rank\u001b[0m\u001b[0;34m(\u001b[0m\u001b[0mA\u001b[0m\u001b[0;34m)\u001b[0m\u001b[0;34m)\u001b[0m\u001b[0;34m\u001b[0m\u001b[0;34m\u001b[0m\u001b[0m\n\u001b[0;32m----> 2\u001b[0;31m \u001b[0mA_inv\u001b[0m \u001b[0;34m=\u001b[0m \u001b[0mnp\u001b[0m\u001b[0;34m.\u001b[0m\u001b[0mlinalg\u001b[0m\u001b[0;34m.\u001b[0m\u001b[0minv\u001b[0m\u001b[0;34m(\u001b[0m\u001b[0mA\u001b[0m\u001b[0;34m)\u001b[0m\u001b[0;34m\u001b[0m\u001b[0;34m\u001b[0m\u001b[0m\n\u001b[0m",
            "\u001b[0;32m<__array_function__ internals>\u001b[0m in \u001b[0;36minv\u001b[0;34m(*args, **kwargs)\u001b[0m\n",
            "\u001b[0;32m/usr/local/lib/python3.6/dist-packages/numpy/linalg/linalg.py\u001b[0m in \u001b[0;36minv\u001b[0;34m(a)\u001b[0m\n\u001b[1;32m    545\u001b[0m     \u001b[0msignature\u001b[0m \u001b[0;34m=\u001b[0m \u001b[0;34m'D->D'\u001b[0m \u001b[0;32mif\u001b[0m \u001b[0misComplexType\u001b[0m\u001b[0;34m(\u001b[0m\u001b[0mt\u001b[0m\u001b[0;34m)\u001b[0m \u001b[0;32melse\u001b[0m \u001b[0;34m'd->d'\u001b[0m\u001b[0;34m\u001b[0m\u001b[0;34m\u001b[0m\u001b[0m\n\u001b[1;32m    546\u001b[0m     \u001b[0mextobj\u001b[0m \u001b[0;34m=\u001b[0m \u001b[0mget_linalg_error_extobj\u001b[0m\u001b[0;34m(\u001b[0m\u001b[0m_raise_linalgerror_singular\u001b[0m\u001b[0;34m)\u001b[0m\u001b[0;34m\u001b[0m\u001b[0;34m\u001b[0m\u001b[0m\n\u001b[0;32m--> 547\u001b[0;31m     \u001b[0mainv\u001b[0m \u001b[0;34m=\u001b[0m \u001b[0m_umath_linalg\u001b[0m\u001b[0;34m.\u001b[0m\u001b[0minv\u001b[0m\u001b[0;34m(\u001b[0m\u001b[0ma\u001b[0m\u001b[0;34m,\u001b[0m \u001b[0msignature\u001b[0m\u001b[0;34m=\u001b[0m\u001b[0msignature\u001b[0m\u001b[0;34m,\u001b[0m \u001b[0mextobj\u001b[0m\u001b[0;34m=\u001b[0m\u001b[0mextobj\u001b[0m\u001b[0;34m)\u001b[0m\u001b[0;34m\u001b[0m\u001b[0;34m\u001b[0m\u001b[0m\n\u001b[0m\u001b[1;32m    548\u001b[0m     \u001b[0;32mreturn\u001b[0m \u001b[0mwrap\u001b[0m\u001b[0;34m(\u001b[0m\u001b[0mainv\u001b[0m\u001b[0;34m.\u001b[0m\u001b[0mastype\u001b[0m\u001b[0;34m(\u001b[0m\u001b[0mresult_t\u001b[0m\u001b[0;34m,\u001b[0m \u001b[0mcopy\u001b[0m\u001b[0;34m=\u001b[0m\u001b[0;32mFalse\u001b[0m\u001b[0;34m)\u001b[0m\u001b[0;34m)\u001b[0m\u001b[0;34m\u001b[0m\u001b[0;34m\u001b[0m\u001b[0m\n\u001b[1;32m    549\u001b[0m \u001b[0;34m\u001b[0m\u001b[0m\n",
            "\u001b[0;32m/usr/local/lib/python3.6/dist-packages/numpy/linalg/linalg.py\u001b[0m in \u001b[0;36m_raise_linalgerror_singular\u001b[0;34m(err, flag)\u001b[0m\n\u001b[1;32m     95\u001b[0m \u001b[0;34m\u001b[0m\u001b[0m\n\u001b[1;32m     96\u001b[0m \u001b[0;32mdef\u001b[0m \u001b[0m_raise_linalgerror_singular\u001b[0m\u001b[0;34m(\u001b[0m\u001b[0merr\u001b[0m\u001b[0;34m,\u001b[0m \u001b[0mflag\u001b[0m\u001b[0;34m)\u001b[0m\u001b[0;34m:\u001b[0m\u001b[0;34m\u001b[0m\u001b[0;34m\u001b[0m\u001b[0m\n\u001b[0;32m---> 97\u001b[0;31m     \u001b[0;32mraise\u001b[0m \u001b[0mLinAlgError\u001b[0m\u001b[0;34m(\u001b[0m\u001b[0;34m\"Singular matrix\"\u001b[0m\u001b[0;34m)\u001b[0m\u001b[0;34m\u001b[0m\u001b[0;34m\u001b[0m\u001b[0m\n\u001b[0m\u001b[1;32m     98\u001b[0m \u001b[0;34m\u001b[0m\u001b[0m\n\u001b[1;32m     99\u001b[0m \u001b[0;32mdef\u001b[0m \u001b[0m_raise_linalgerror_nonposdef\u001b[0m\u001b[0;34m(\u001b[0m\u001b[0merr\u001b[0m\u001b[0;34m,\u001b[0m \u001b[0mflag\u001b[0m\u001b[0;34m)\u001b[0m\u001b[0;34m:\u001b[0m\u001b[0;34m\u001b[0m\u001b[0;34m\u001b[0m\u001b[0m\n",
            "\u001b[0;31mLinAlgError\u001b[0m: Singular matrix"
          ]
        }
      ],
      "source": [
        "print(\"rank:\", np.linalg.matrix_rank(A))\n",
        "A_inv = np.linalg.inv(A)  "
      ]
    },
    {
      "cell_type": "code",
      "execution_count": null,
      "metadata": {
        "colab": {
          "base_uri": "https://localhost:8080/"
        },
        "id": "Z4DEh2rMAy46",
        "outputId": "61ea62c6-b54a-41ef-effb-355dab917634"
      },
      "outputs": [
        {
          "name": "stdout",
          "output_type": "stream",
          "text": [
            "P: [[0. 1.]\n",
            " [1. 0.]]\n",
            "L: [[1.  0. ]\n",
            " [0.5 1. ]]\n",
            "U: [[2. 6.]\n",
            " [0. 0.]]\n",
            "AA: [[1. 3.]\n",
            " [2. 6.]]\n"
          ]
        }
      ],
      "source": [
        "# LU 분해의 결과를 각각 행렬로서 확인하기\n",
        "P, L, U = scipy.linalg.lu(A)\n",
        "\n",
        "print(\"P:\", P)\n",
        "print(\"L:\", L)\n",
        "print(\"U:\", U)\n",
        "\n",
        "AA = P @ L @ U\n",
        "print(\"AA:\", AA)"
      ]
    },
    {
      "cell_type": "code",
      "execution_count": null,
      "metadata": {
        "colab": {
          "base_uri": "https://localhost:8080/"
        },
        "id": "5pUnbBz4B5N0",
        "outputId": "e34dd9e3-10ab-47c8-b1b4-8458701ede18"
      },
      "outputs": [
        {
          "name": "stdout",
          "output_type": "stream",
          "text": [
            "x: [nan nan]\n",
            "(2,)\n"
          ]
        },
        {
          "name": "stderr",
          "output_type": "stream",
          "text": [
            "/usr/local/lib/python3.6/dist-packages/ipykernel_launcher.py:3: LinAlgWarning: Diagonal number 2 is exactly zero. Singular matrix.\n",
            "  This is separate from the ipykernel package so we can avoid doing imports until\n"
          ]
        }
      ],
      "source": [
        "b = np.array([2, 4])\n",
        "# LU 분해\n",
        "lu, piv = scipy.linalg.lu_factor(A)\n",
        "x = scipy.linalg.lu_solve((lu, piv), b)\n",
        "\n",
        "print(\"x:\", x)\n",
        "print(np.shape(x))"
      ]
    }
  ],
  "metadata": {
    "colab": {
      "name": "[1-3. LU 분해]-2",
      "provenance": []
    },
    "kernelspec": {
      "display_name": "Python 3.10.4 64-bit",
      "language": "python",
      "name": "python3"
    },
    "language_info": {
      "codemirror_mode": {
        "name": "ipython",
        "version": 3
      },
      "file_extension": ".py",
      "mimetype": "text/x-python",
      "name": "python",
      "nbconvert_exporter": "python",
      "pygments_lexer": "ipython3",
      "version": "3.10.4"
    },
    "vscode": {
      "interpreter": {
        "hash": "26de051ba29f2982a8de78e945f0abaf191376122a1563185a90213a26c5da77"
      }
    }
  },
  "nbformat": 4,
  "nbformat_minor": 0
}
