{
 "cells": [
  {
   "cell_type": "code",
   "execution_count": 1,
   "id": "ecb1cbba-f2f8-4753-ab63-db2dda8abae6",
   "metadata": {},
   "outputs": [],
   "source": [
    "import numpy as np"
   ]
  },
  {
   "cell_type": "code",
   "execution_count": 3,
   "id": "92a28572-6d63-4359-b9f0-1646693efa8b",
   "metadata": {},
   "outputs": [
    {
     "name": "stdout",
     "output_type": "stream",
     "text": [
      "[[ 3  1  1]\n",
      " [ 1 -2 -1]\n",
      " [ 1  1  1]]\n",
      "(3, 3)\n"
     ]
    }
   ],
   "source": [
    "#행렬 코딩\n",
    "A = np.array([[3,1,1],[1,-2,-1],[1,1,1]])\n",
    "\n",
    "print(A)\n",
    "print(np.shape(A))"
   ]
  },
  {
   "cell_type": "code",
   "execution_count": 4,
   "id": "e11165df-d23b-4b06-b8af-0c48131a8b30",
   "metadata": {},
   "outputs": [
    {
     "name": "stdout",
     "output_type": "stream",
     "text": [
      "[4 1 2]\n",
      "(3,)\n"
     ]
    }
   ],
   "source": [
    "#벡터 코딩\n",
    "b = np.array([4,1,2])\n",
    "\n",
    "print(b)\n",
    "print(np.shape(b))"
   ]
  },
  {
   "cell_type": "code",
   "execution_count": 7,
   "id": "a172d2b0-b695-4972-a50c-8ef31754b312",
   "metadata": {},
   "outputs": [
    {
     "name": "stdout",
     "output_type": "stream",
     "text": [
      "[[ 5.00000000e-01 -7.40148683e-17 -5.00000000e-01]\n",
      " [ 1.00000000e+00 -1.00000000e+00 -2.00000000e+00]\n",
      " [-1.50000000e+00  1.00000000e+00  3.50000000e+00]]\n",
      "(3, 3)\n"
     ]
    }
   ],
   "source": [
    "#역행렬 구하기\n",
    "A_inv = np.linalg.inv(A)\n",
    "\n",
    "print(A_inv)\n",
    "print(np.shape(A_inv))"
   ]
  },
  {
   "cell_type": "code",
   "execution_count": 8,
   "id": "11b1be6b-25db-4380-9f48-9efc9278f92b",
   "metadata": {},
   "outputs": [
    {
     "name": "stdout",
     "output_type": "stream",
     "text": [
      "[ 1. -1.  2.]\n",
      "(3,)\n"
     ]
    }
   ],
   "source": [
    "#역행렬을 이용한 선형시스템 Ax=b의 해 구하기\n",
    "# x = np.matmul(A_inv, b)\n",
    "x = A_inv @ b\n",
    "\n",
    "print(x)\n",
    "print(np.shape(x))"
   ]
  },
  {
   "cell_type": "code",
   "execution_count": 10,
   "id": "fb1d50b3-5940-4077-beb2-cc0993e4622f",
   "metadata": {},
   "outputs": [
    {
     "name": "stdout",
     "output_type": "stream",
     "text": [
      "(3,)\n",
      "[4. 1. 2.]\n",
      "OK\n"
     ]
    }
   ],
   "source": [
    "## 결과 검증\n",
    "## bb = np.matmul(A,x)\n",
    "bb = A @ x\n",
    "\n",
    "print(np.shape(bb))\n",
    "print(bb)\n",
    "\n",
    "if np.linalg.norm(b-bb) < 1e-3:\n",
    "    print(\"OK\")\n",
    "else:\n",
    "    print(\"something wrong\")"
   ]
  }
 ],
 "metadata": {
  "kernelspec": {
   "display_name": "Python 3 (ipykernel)",
   "language": "python",
   "name": "python3"
  },
  "language_info": {
   "codemirror_mode": {
    "name": "ipython",
    "version": 3
   },
   "file_extension": ".py",
   "mimetype": "text/x-python",
   "name": "python",
   "nbconvert_exporter": "python",
   "pygments_lexer": "ipython3",
   "version": "3.10.3"
  }
 },
 "nbformat": 4,
 "nbformat_minor": 5
}
